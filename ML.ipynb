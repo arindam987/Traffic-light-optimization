{
 "cells": [
  {
   "cell_type": "code",
   "execution_count": 3,
   "metadata": {},
   "outputs": [
    {
     "name": "stdout",
     "output_type": "stream",
     "text": [
      "input x1:  [0, 1, 0, 1]\n",
      "input x2:  [0, 0, 1, 1]\n",
      "output y:  [0, 0, 0, 1]\n"
     ]
    }
   ],
   "source": [
    "threshold=2\n",
    "w1=1\n",
    "w2=1\n",
    "inhi=0\n",
    "s=0\n",
    "x1=[0,1,0,1]\n",
    "x2=[0,0,1,1]\n",
    "output=[]\n",
    "if inhi==0:\n",
    "    for i in range(len(x1)):\n",
    "        s+=x1[i]*w1+x2[i]*w2\n",
    "        if s>=threshold:\n",
    "            output.append(1)\n",
    "        else:\n",
    "            output.append(0)\n",
    "        s=0\n",
    "else:\n",
    "    print(\"Neuron is not active\")\n",
    "print(\"input x1: \",x1)\n",
    "print(\"input x2: \",x2)\n",
    "print(\"output y: \",output)\n",
    "    "
   ]
  },
  {
   "cell_type": "code",
   "execution_count": null,
   "metadata": {},
   "outputs": [],
   "source": [
    "x1=[0,0,1,1]\n",
    "x2=[1,0,1,0]\n",
    "weight=[1,1,1]\n",
    "lr_rate=1\n",
    "epochs=10\n",
    "def threshold(x):\n",
    "    if x>=0:\n",
    "        return 1\n",
    "    else:\n",
    "        return 0\n",
    "for i in range(epochs):\n",
    "    error=[]\n",
    "    for i in range(4):\n",
    "        s=0\n",
    "        s+=weights[0]*1+x1[i]*weights[1]+x2[i]*weights[2]\n",
    "        result=threshold(s)\n",
    "        print(\"obtain output \",result)\n",
    "        error.append(target[i]-result)\n",
    "        print(\"error \",error[i])\n",
    "        if error[i]!=0:\n",
    "            weight[0]=weight[0]+error[i]*1*lr_rate\n",
    "            weight[1]=weight[1]+error[i]*x1[i]*lr_rate\n",
    "            weight[2]+="
   ]
  }
 ],
 "metadata": {
  "kernelspec": {
   "display_name": "Python 3",
   "language": "python",
   "name": "python3"
  },
  "language_info": {
   "codemirror_mode": {
    "name": "ipython",
    "version": 3
   },
   "file_extension": ".py",
   "mimetype": "text/x-python",
   "name": "python",
   "nbconvert_exporter": "python",
   "pygments_lexer": "ipython3",
   "version": "3.7.3"
  }
 },
 "nbformat": 4,
 "nbformat_minor": 2
}
